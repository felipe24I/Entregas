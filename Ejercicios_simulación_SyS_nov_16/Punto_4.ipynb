{
  "nbformat": 4,
  "nbformat_minor": 0,
  "metadata": {
    "colab": {
      "provenance": [],
      "authorship_tag": "ABX9TyM340Muc72APcWZWwVGNW0X",
      "include_colab_link": true
    },
    "kernelspec": {
      "name": "python3",
      "display_name": "Python 3"
    },
    "language_info": {
      "name": "python"
    }
  },
  "cells": [
    {
      "cell_type": "markdown",
      "metadata": {
        "id": "view-in-github",
        "colab_type": "text"
      },
      "source": [
        "<a href=\"https://colab.research.google.com/github/felipe24I/Entregas/blob/main/Ejercicios_simulaci%C3%B3n_SyS_nov_16/Punto_4.ipynb\" target=\"_parent\"><img src=\"https://colab.research.google.com/assets/colab-badge.svg\" alt=\"Open In Colab\"/></a>"
      ]
    },
    {
      "cell_type": "markdown",
      "source": [
        "#**Ejercicio**"
      ],
      "metadata": {
        "id": "tLIPDBNHUe2x"
      }
    },
    {
      "cell_type": "markdown",
      "source": [
        "4. Fije los valores de los párametros del sistema rlc paralelo, con condiciones iniciales cero, para simular la respuesta subamortiguada, sobreamortiguada, de amortiguamiento critico, oscilatoria e inestable, ante entrada escalón."
      ],
      "metadata": {
        "id": "O9l0RjgQBNJx"
      }
    },
    {
      "cell_type": "markdown",
      "source": [
        "#**Simulación**"
      ],
      "metadata": {
        "id": "igA_0-9PMqKz"
      }
    },
    {
      "cell_type": "markdown",
      "source": [
        "#**Circuito RLC paralelo**\n",
        "\n",
        "\n",
        "\n",
        "*   Salida ante una entrada escalón\n",
        "\n",
        "\n",
        "\n"
      ],
      "metadata": {
        "id": "3QkSTnH9FP29"
      }
    },
    {
      "cell_type": "code",
      "source": [
        "import sympy as sym\n",
        "import matplotlib.pyplot as plt\n",
        "import sympy.physics.control as control\n",
        "sym.init_printing()\n",
        "\n",
        "s = sym.symbols('s', complex=True)\n",
        "t, R, L, C, w = sym.symbols('t R L C omega', positive=True)\n",
        "X = 1 / s # entrada escalon\n",
        "H=control.TransferFunction(1,(L*C)*s**2 + (L*s)/R + 1,s) #Funcion de transferencia con la API de control\n",
        "H\n",
        "Y = H.num * X /H.den#función de transferencia del circuito multiplicad\n",
        "Y"
      ],
      "metadata": {
        "colab": {
          "base_uri": "https://localhost:8080/",
          "height": 58
        },
        "id": "ipHRQcL7DICP",
        "outputId": "08d14242-a1c2-4829-b861-6a9cc1679b95"
      },
      "execution_count": 2,
      "outputs": [
        {
          "output_type": "execute_result",
          "data": {
            "text/plain": [
              "         1          \n",
              "────────────────────\n",
              "  ⎛     2   L⋅s    ⎞\n",
              "s⋅⎜C⋅L⋅s  + ─── + 1⎟\n",
              "  ⎝          R     ⎠"
            ],
            "text/latex": "$\\displaystyle \\frac{1}{s \\left(C L s^{2} + \\frac{L s}{R} + 1\\right)}$"
          },
          "metadata": {},
          "execution_count": 2
        }
      ]
    },
    {
      "cell_type": "markdown",
      "source": [
        "para simular la respuesta subamortiguada, sobreamortiguada, de amortiguamiento critico, oscilatoria e inestable, ante entrada escalón. Necesitamos encontrar la forma canónica SLIT de segundo orden\n",
        "\n",
        "\n"
      ],
      "metadata": {
        "id": "MDZWRo63Glwg"
      }
    },
    {
      "cell_type": "code",
      "source": [
        "import sympy as sym\n",
        "import matplotlib.pyplot as plt\n",
        "import numpy as np\n",
        "sym.init_printing()\n",
        "\n",
        "s = sym.symbols('s', complex=True)\n",
        "t,R, L, C = sym.symbols('t R L C', positive=True, real=True)\n",
        "\n",
        "#Entrada de interés en Laplace\n",
        "X = 1/s # X(s) = 1 Respuesta entrada impulso; X(s) = 1/s resp escalón, X(s) = 1/s**2 resp a la rampa\n",
        "#Forma canónica -> resolver según sistema propuesto\n",
        "K = 1 #ganancia estática\n",
        "wn = sym.sqrt(1/(C*L)) #frecuencia natural\n",
        "xi = (sym.sqrt(L*C))/(2*R*C) #factor amortiguamiento\n",
        "H = K*(wn**2/(s**2 + 2*xi*wn*s + wn**2)) #función de transferencia en lazo cerrado slit 2 orden\n",
        "#Hlc = H/(1+H) #para lazo cerrado\n",
        "H\n"
      ],
      "metadata": {
        "colab": {
          "base_uri": "https://localhost:8080/",
          "height": 58
        },
        "id": "rCUsugoIG8bt",
        "outputId": "f0c2df1e-b33a-437f-cea3-7c02c4b174e7"
      },
      "execution_count": 3,
      "outputs": [
        {
          "output_type": "execute_result",
          "data": {
            "text/plain": [
              "         1          \n",
              "────────────────────\n",
              "    ⎛ 2    s     1 ⎞\n",
              "C⋅L⋅⎜s  + ─── + ───⎟\n",
              "    ⎝     C⋅R   C⋅L⎠"
            ],
            "text/latex": "$\\displaystyle \\frac{1}{C L \\left(s^{2} + \\frac{s}{C R} + \\frac{1}{C L}\\right)}$"
          },
          "metadata": {},
          "execution_count": 3
        }
      ]
    },
    {
      "cell_type": "markdown",
      "source": [
        "\n",
        "*   Respuesta subamortiguada\n"
      ],
      "metadata": {
        "id": "texvnolTIXxi"
      }
    },
    {
      "cell_type": "code",
      "source": [
        "import numpy as np\n",
        "import matplotlib.pyplot as plt\n",
        "#Fijamos valores DE R, L Y C para mostrar la respuesta subamoritguada\n",
        "RLC = {R: 100, L: 0.1, C:0.0001}\n",
        "sym.init_printing()\n",
        "xi=(sym.sqrt(L*C))/(2*R*C) #0<xi<1\n",
        "\n",
        "wn = sym.sqrt(1/(C*L))\n",
        "\n",
        "H=control.TransferFunction(1,(L*C)*s**2 + (L*s)/R + 1,s)\n",
        "H\n",
        "HRLC=control.TransferFunction(H.num,H.den.subs(RLC),s)\n",
        "control.step_response_plot(HRLC)"
      ],
      "metadata": {
        "colab": {
          "base_uri": "https://localhost:8080/",
          "height": 496
        },
        "id": "_Ozel0SxJURj",
        "outputId": "71131fac-79ea-4369-b004-88b4b72e46fb"
      },
      "execution_count": 21,
      "outputs": [
        {
          "output_type": "display_data",
          "data": {
            "text/plain": [
              "<Figure size 640x480 with 1 Axes>"
            ],
            "image/png": "[encoded data removed]"
          },
          "metadata": {}
        }
      ]
    },
    {
      "cell_type": "markdown",
      "source": [
        "\n",
        "*  Respuesta sobreamortiguada\n",
        "\n"
      ],
      "metadata": {
        "id": "W6lXQf6zPXMx"
      }
    },
    {
      "cell_type": "code",
      "source": [
        "import numpy as np\n",
        "import matplotlib.pyplot as plt\n",
        "#Fijamos valores DE R, L Y C para mostrar la respuesta sobreamortiguada\n",
        "R = R.subs({R:1})\n",
        "L = L.subs({L:10})\n",
        "C = C.subs({C:1})\n",
        "sym.init_printing()\n",
        "xi=(sym.sqrt(L*C))/(2*R*C) #xi > 1\n",
        "xi\n"
      ],
      "metadata": {
        "colab": {
          "base_uri": "https://localhost:8080/",
          "height": 55
        },
        "id": "5iJ_zydCPnJ1",
        "outputId": "810f884a-6bf4-40d2-d5ac-e7a08eee80c7"
      },
      "execution_count": 5,
      "outputs": [
        {
          "output_type": "execute_result",
          "data": {
            "text/plain": [
              "√10\n",
              "───\n",
              " 2 "
            ],
            "text/latex": "$\\displaystyle \\frac{\\sqrt{10}}{2}$"
          },
          "metadata": {},
          "execution_count": 5
        }
      ]
    },
    {
      "cell_type": "markdown",
      "source": [
        "\n",
        "\n",
        "*  Respuesta de amortiguamiento crítico\n",
        "\n"
      ],
      "metadata": {
        "id": "eTO4YTwlSBYx"
      }
    },
    {
      "cell_type": "code",
      "source": [
        "import numpy as np\n",
        "import matplotlib.pyplot as plt\n",
        "#Fijamos valores DE R, L Y C para mostrar la respuesta de amortiguamiento crítico\n",
        "R = R.subs({R:1})\n",
        "L = L.subs({L:4})\n",
        "C = C.subs({C:1})\n",
        "sym.init_printing()\n",
        "xi=(sym.sqrt(L*C))/(2*R*C) #xi = 1\n",
        "xi"
      ],
      "metadata": {
        "colab": {
          "base_uri": "https://localhost:8080/",
          "height": 37
        },
        "id": "-VxIV-DQSheA",
        "outputId": "b55b9a77-ff59-4fbf-f8c0-b999053bbde3"
      },
      "execution_count": 6,
      "outputs": [
        {
          "output_type": "execute_result",
          "data": {
            "text/plain": [
              "1"
            ],
            "text/latex": "$\\displaystyle 1$"
          },
          "metadata": {},
          "execution_count": 6
        }
      ]
    },
    {
      "cell_type": "markdown",
      "source": [
        "\n",
        "\n",
        "*  Respuesta oscilatoria\n",
        "\n",
        "\n"
      ],
      "metadata": {
        "id": "bmI8oDjtS2gj"
      }
    },
    {
      "cell_type": "code",
      "source": [
        "import numpy as np\n",
        "import matplotlib.pyplot as plt\n",
        "#Fijamos valores DE R, L Y C para mostrar la respuesta de amortiguamiento crítico\n",
        "R = R.subs({R:1})\n",
        "L = L.subs({L:0})\n",
        "C = C.subs({C:1})\n",
        "sym.init_printing()\n",
        "xi=(sym.sqrt(L*C))/(2*R*C) #xi = 0\n",
        "xi"
      ],
      "metadata": {
        "colab": {
          "base_uri": "https://localhost:8080/",
          "height": 37
        },
        "id": "cfJEyGlGTdGE",
        "outputId": "9e1c0f81-a778-47ad-95d8-e3d9a8f06127"
      },
      "execution_count": 7,
      "outputs": [
        {
          "output_type": "execute_result",
          "data": {
            "text/plain": [
              "0"
            ],
            "text/latex": "$\\displaystyle 0$"
          },
          "metadata": {},
          "execution_count": 7
        }
      ]
    },
    {
      "cell_type": "markdown",
      "source": [
        "\n",
        "\n",
        "*   Respuesta inestable\n",
        "\n",
        "\n"
      ],
      "metadata": {
        "id": "64wo-vj0Ts_g"
      }
    },
    {
      "cell_type": "code",
      "source": [
        "import numpy as np\n",
        "import matplotlib.pyplot as plt\n",
        "#Fijamos valores DE R, L Y C para mostrar la respuesta de amortiguamiento crítico\n",
        "R = R.subs({R:-1})\n",
        "L = L.subs({L:1})\n",
        "C = C.subs({C:1})\n",
        "sym.init_printing()\n",
        "xi=(sym.sqrt(L*C))/(2*R*C) #xi < 0\n",
        "xi"
      ],
      "metadata": {
        "colab": {
          "base_uri": "https://localhost:8080/",
          "height": 51
        },
        "id": "K4fDfb7OT0Dj",
        "outputId": "32bf5c83-52b4-4819-ca4b-cee02cc1bdb3"
      },
      "execution_count": 8,
      "outputs": [
        {
          "output_type": "execute_result",
          "data": {
            "text/plain": [
              "-1/2"
            ],
            "text/latex": "$\\displaystyle - \\frac{1}{2}$"
          },
          "metadata": {},
          "execution_count": 8
        }
      ]
    }
  ]
}
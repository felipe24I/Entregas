{
  "nbformat": 4,
  "nbformat_minor": 0,
  "metadata": {
    "colab": {
      "provenance": [],
      "include_colab_link": true
    },
    "kernelspec": {
      "name": "python3",
      "display_name": "Python 3"
    },
    "language_info": {
      "name": "python"
    }
  },
  "cells": [
    {
      "cell_type": "markdown",
      "metadata": {
        "id": "view-in-github",
        "colab_type": "text"
      },
      "source": [
        "<a href=\"https://colab.research.google.com/github/felipe24I/Entregas/blob/main/Copy_of_5_Functions.ipynb\" target=\"_parent\"><img src=\"https://colab.research.google.com/assets/colab-badge.svg\" alt=\"Open In Colab\"/></a>"
      ]
    },
    {
      "cell_type": "markdown",
      "source": [
        "Functions are blocks of code that can be reused in different parts of a program. They are useful because they allow us to avoid code repetition and make our code more modular and easy to read.\n",
        "\n",
        "In Python, functions are defined using the def keyword, followed by the function name and a list of arguments in parentheses. The body of the function goes after, indented.\n",
        "\n",
        "For example, here's a simple function that takes two arguments and returns their sum:"
      ],
      "metadata": {
        "id": "S7bKHe0V-ktK"
      }
    },
    {
      "cell_type": "code",
      "execution_count": 1,
      "metadata": {
        "id": "9bwPSLJH91gF"
      },
      "outputs": [],
      "source": [
        "def add(a, b):\n",
        "    return a + b\n"
      ]
    },
    {
      "cell_type": "markdown",
      "source": [
        "We can call this function as follows:\n",
        "\n"
      ],
      "metadata": {
        "id": "rcjU06-j-ouc"
      }
    },
    {
      "cell_type": "code",
      "source": [
        "result = add(3, 4)\n",
        "print(result) # output: 7\n"
      ],
      "metadata": {
        "id": "0HtHH2uz-uyg",
        "colab": {
          "base_uri": "https://localhost:8080/"
        },
        "outputId": "80863799-d727-4da8-96e5-a8259a3fe544"
      },
      "execution_count": 2,
      "outputs": [
        {
          "output_type": "stream",
          "name": "stdout",
          "text": [
            "7\n"
          ]
        }
      ]
    },
    {
      "cell_type": "markdown",
      "source": [
        "In this example, we passed the arguments 3 and 4 to the add function, which returned 7. We then stored the result in a variable called result and printed it to the screen."
      ],
      "metadata": {
        "id": "aOgQWQwL-wHt"
      }
    },
    {
      "cell_type": "markdown",
      "source": [
        "##Function Arguments"
      ],
      "metadata": {
        "id": "Wb92IaCNAJ0Y"
      }
    },
    {
      "cell_type": "markdown",
      "source": [
        "In Python, there are different types of arguments that we can pass to a function. Arguments are defined in the list of parameters of the function, separated by commas."
      ],
      "metadata": {
        "id": "FwFmcZ7rAQG3"
      }
    },
    {
      "cell_type": "markdown",
      "source": [
        "###Positional Arguments"
      ],
      "metadata": {
        "id": "sJj8Q_hCAUot"
      }
    },
    {
      "cell_type": "markdown",
      "source": [
        "Positional arguments are those that are passed to a function in the order they appear in the parameter list. For example, in the add(a, b) function above, a is the first positional argument and b is the second."
      ],
      "metadata": {
        "id": "5bJ15-CpAct-"
      }
    },
    {
      "cell_type": "markdown",
      "source": [
        "###Default Value Arguments"
      ],
      "metadata": {
        "id": "ha4yexfwAk-6"
      }
    },
    {
      "cell_type": "markdown",
      "source": [
        "Default value arguments are those that have a default value assigned in the parameter list. If the argument is not provided when calling the function, its default value is used. For example, here's a function that takes a positional argument and a default value argument:"
      ],
      "metadata": {
        "id": "fZ-SOVgYAovN"
      }
    },
    {
      "cell_type": "code",
      "source": [
        "def greet(name, greeting=\"Hello\"):\n",
        "    print(greeting + \", \" + name + \"!\")\n",
        "\n",
        "# Example usage\n",
        "greet(\"Juan\")  # Output: Hello, Juan!\n",
        "\n",
        "name = input(\"Enter your name: \")\n",
        "greet(name)  # Output: Hello, [name entered]!"
      ],
      "metadata": {
        "id": "5NazaGuK_eSO",
        "colab": {
          "base_uri": "https://localhost:8080/"
        },
        "outputId": "5334afb9-ef65-40e6-fa09-dab9f4233cd1"
      },
      "execution_count": 4,
      "outputs": [
        {
          "output_type": "stream",
          "name": "stdout",
          "text": [
            "Hello, Juan!\n",
            "Enter your name: felipe\n",
            "Hello, felipe!\n"
          ]
        }
      ]
    },
    {
      "cell_type": "markdown",
      "source": [
        "If we call this function with greet(\"John\"), the output will be Hello, John!. If we call the function with greet(\"Peter\", \"Good morning\"), the output will be Good morning, Peter!."
      ],
      "metadata": {
        "id": "0JKqNTPIAxnq"
      }
    },
    {
      "cell_type": "markdown",
      "source": [
        "### Variable-Length Arguments"
      ],
      "metadata": {
        "id": "mJYjb7QLA13X"
      }
    },
    {
      "cell_type": "markdown",
      "source": [
        "Sometimes we want to pass a variable amount of arguments to a function. In Python, we can do this using variable-length arguments."
      ],
      "metadata": {
        "id": "k28bUldiA7NL"
      }
    },
    {
      "cell_type": "markdown",
      "source": [
        "####Variable Positional Arguments\n",
        "Variable positional arguments are defined with an asterisk (*) before the argument name in the parameter list. This indicates that the function accepts a variable number of positional arguments. For example:"
      ],
      "metadata": {
        "id": "5waAk76PA_nw"
      }
    },
    {
      "cell_type": "code",
      "source": [
        "def print_names(*names):\n",
        "    for name in names:\n",
        "        print(name)\n"
      ],
      "metadata": {
        "id": "iANwE0kGBEmd"
      },
      "execution_count": null,
      "outputs": []
    },
    {
      "cell_type": "markdown",
      "source": [
        "This function takes a variable number of positional arguments and prints them to the screen. We can call the function with any number of arguments:"
      ],
      "metadata": {
        "id": "GihiUzY2BHJW"
      }
    },
    {
      "cell_type": "code",
      "source": [
        "print_names(\"John\", \"Peter\", \"Mary\") # output: John Peter Mary\n",
        "print_names(\"Charles\") # output: Charles\n",
        "print_names() # output:\n"
      ],
      "metadata": {
        "id": "Di0ZxLoeBLtQ"
      },
      "execution_count": null,
      "outputs": []
    },
    {
      "cell_type": "markdown",
      "source": [
        "####Variable Keyword Arguments\n",
        "Variable keyword arguments are defined with two asterisks (**) before the argument name in the parameter list. This indicates that the function accepts a variable number of keyword arguments. For example:"
      ],
      "metadata": {
        "id": "PfP5NFypBMbw"
      }
    },
    {
      "cell_type": "code",
      "source": [
        "def print_kwargs(**kwargs):\n",
        "    for key, value in kwargs.items():\n",
        "        print(key + \": \" + value)\n"
      ],
      "metadata": {
        "id": "MFtyekZaBPtf"
      },
      "execution_count": null,
      "outputs": []
    },
    {
      "cell_type": "markdown",
      "source": [
        "This function takes a variable number of keyword arguments and prints their keys and values to the screen. We can call the function with any number of keyword arguments:"
      ],
      "metadata": {
        "id": "mAAEOKFrBXUe"
      }
    },
    {
      "cell_type": "code",
      "source": [
        "print_kwargs(name=\"John\", age=\"25\", city=\"New York\")\n",
        "# output:\n",
        "# name: John\n",
        "# age: 25\n",
        "# city: New York\n"
      ],
      "metadata": {
        "id": "cJ2Kvo86BdAa"
      },
      "execution_count": null,
      "outputs": []
    },
    {
      "cell_type": "markdown",
      "source": [
        "##Conclusion"
      ],
      "metadata": {
        "id": "JoPc9PakBZBx"
      }
    },
    {
      "cell_type": "markdown",
      "source": [
        "Functions are an important concept in programming, and Python makes it easy to define and use them."
      ],
      "metadata": {
        "id": "nwKUfCxSBies"
      }
    },
    {
      "cell_type": "markdown",
      "source": [
        "## Exercise 1\n",
        "\n"
      ],
      "metadata": {
        "id": "bZmYScf-CCRg"
      }
    },
    {
      "cell_type": "markdown",
      "source": [
        "The area of a triangle can be calculated when the length of its sides is known. Taking into account that s1, s2 and s3 are the lengths of the sides of the triangle, the subperimeter s = (s1+s2+s3)/2 can be calculated, and, with this value, the area of the triangle can be calculated from the follows: area = √( s * (s-s1) * (s-s2) * (s-s3) ).\n",
        "\n",
        "Create a function that takes the length of the sides of the triangle and returns the area of the triangle, rounded to one decimal place.\n",
        "\n",
        "The math module can help you calculate the square root.\n",
        "\n",
        "\n"
      ],
      "metadata": {
        "id": "S6OE1xSBCFfb"
      }
    },
    {
      "cell_type": "code",
      "source": [
        "from math import sqrt # De la librería math, importo sqrt que es una función que me calcula la raiz cuadrada\n",
        "def area (s1,s2,s3): #definimos una función de nombre área que recibe s1, s2 y s3 como parametros por pocsición\n",
        "  s= (s1+s2+s3)/2 #calculamos el subperimetro\n",
        "  area=sqrt(s*(s-s1)*(s-s2)*(s-s3)) #calculo del area del triángulo\n",
        "  area_redondeada= round(area,1) #creo una variable llamada area redondeada y utilizamos la función round, le damos como parametros el numero a redondear y el numero de decimales al cual queremos redondear\n",
        "  return area_redondeada #me retorna el área\n",
        "\n",
        "s1=float(input(\"Ingrese el lado 1 del triangulo: \")) #pregunto por el lado 1 del triangulo y lo almaceno\n",
        "s2=float(input(\"Ingrese el lado 2 del triangulo: \")) #pregunto por el lado 2 del triangulo y lo almaceno\n",
        "s3=float(input(\"Ingrese el lado 3 del triangulo: \")) #pregunto por el lado 3 del triangulo y lo almaceno\n",
        "\n",
        "area = area(s1,s2,s3) #defino una variable llamada area, llamo la función area y le paso los parametros por posición\n",
        "print(\"El area del triangulo es: \",area) #imprimo en pantalla el area calculada"
      ],
      "metadata": {
        "colab": {
          "base_uri": "https://localhost:8080/"
        },
        "id": "a-5WJK32_5m7",
        "outputId": "4c5343f4-3043-42f1-ffc3-565dfbd117d4"
      },
      "execution_count": 8,
      "outputs": [
        {
          "output_type": "stream",
          "name": "stdout",
          "text": [
            "Ingrese el lado 1 del triangulo: 12\n",
            "Ingrese el lado 2 del triangulo: 14\n",
            "Ingrese el lado 3 del triangulo: 16\n",
            "El area del triangulo es:  81.3\n"
          ]
        }
      ]
    },
    {
      "cell_type": "markdown",
      "source": [
        "## Exercise 2"
      ],
      "metadata": {
        "id": "vJXNrk1s3WNa"
      }
    },
    {
      "cell_type": "markdown",
      "source": [
        "Create a function that can calculate a person's body mass index (BMI).\n",
        "\n",
        "The formula to calculate BMI is as follows:\n",
        "\n",
        "BMI = weight/(height^2)\n",
        "\n",
        "In this formula the weight is in kilograms and the height in meters. Note that the weight and height received by your function will be in pounds and inches respectively, since your function will be used in the United States.\n",
        "\n",
        "Remember that:\n",
        "\n",
        "- 1 pound corresponds to 0.45kg.\n",
        "\n",
        "- 1 inch corresponds to 0.025 meters.\n",
        "\n",
        "The return value must be rounded to two decimal places.\n",
        "\n",
        "\n"
      ],
      "metadata": {
        "id": "D_d0hp_w3Z0x"
      }
    },
    {
      "cell_type": "code",
      "source": [
        "def BMI (peso,altura): #definimos una función de nombre BMI que recibe peso y altura como parametros por posición\n",
        "  peso_kg=peso*0.45 #convertimos el peso de libras a kilogramos\n",
        "  altura_mts=altura*0.025 #convertimos la altura de pulgadas a metros\n",
        "  BMI=peso_kg/altura_mts**2\n",
        "  BMI_redondeado= round(BMI,2) #creo una variable llamada area redondeada y utilizamos la función round, le damos como parametros el numero a redondear y el numero de decimales al cual queremos redondear\n",
        "  return BMI_redondeado #me retorna el BMI\n",
        "\n",
        "peso=float(input(\"Ingrese el peso en libras : \")) #pregunto por el peso en libras y lo almaceno\n",
        "altura=float(input(\"Ingrese la altura en pulgadas: \")) #pregunto por la altura en pulgadas y lo almaceno\n",
        "\n",
        "\n",
        "BMI = BMI(peso,altura) #defino una variable llamada BMI, llamo la función BMI y le paso los parametros por posición\n",
        "print(\"El BMI es: \",BMI) #imprimo en pantalla el BMI calculada"
      ],
      "metadata": {
        "id": "bJYyWjRc3Bdc",
        "colab": {
          "base_uri": "https://localhost:8080/"
        },
        "outputId": "fe37ab66-f3b6-4e53-ded0-20cb52a96eef"
      },
      "execution_count": 12,
      "outputs": [
        {
          "output_type": "stream",
          "name": "stdout",
          "text": [
            "Ingrese el peso en libras : 120\n",
            "Ingrese la altura en pulgadas: 69.2\n",
            "El BMI es:  18.04\n"
          ]
        }
      ]
    }
  ]
}
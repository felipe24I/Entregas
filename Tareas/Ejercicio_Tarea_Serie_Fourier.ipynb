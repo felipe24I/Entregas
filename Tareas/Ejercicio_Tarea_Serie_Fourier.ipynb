{
  "nbformat": 4,
  "nbformat_minor": 0,
  "metadata": {
    "colab": {
      "provenance": [],
      "include_colab_link": true
    },
    "kernelspec": {
      "name": "python3",
      "display_name": "Python 3"
    },
    "language_info": {
      "name": "python"
    }
  },
  "cells": [
    {
      "cell_type": "markdown",
      "metadata": {
        "id": "view-in-github",
        "colab_type": "text"
      },
      "source": [
        "<a href=\"https://colab.research.google.com/github/felipe24I/Entregas/blob/main/Ejercicio_Tarea_Serie_Fourier.ipynb\" target=\"_parent\"><img src=\"https://colab.research.google.com/assets/colab-badge.svg\" alt=\"Open In Colab\"/></a>"
      ]
    },
    {
      "cell_type": "code",
      "execution_count": null,
      "metadata": {
        "colab": {
          "base_uri": "https://localhost:8080/"
        },
        "id": "PTLbZ7Ww7tuz",
        "outputId": "2a13180c-6546-4b9b-c858-424760444fa8"
      },
      "outputs": [
        {
          "output_type": "stream",
          "name": "stdout",
          "text": [
            "a0 = \n",
            "0.500000000000000\n",
            "an = \n",
            "⎧    2.0       for n = 0\n",
            "⎪                       \n",
            "⎪       ⎛π⋅n⎞           \n",
            "⎨4.0⋅sin⎜───⎟           \n",
            "⎪       ⎝ 2 ⎠           \n",
            "⎪────────────  otherwise\n",
            "⎩    π⋅n                \n"
          ]
        }
      ],
      "source": [
        "# Importar librerías\n",
        "import sympy as sym\n",
        "\n",
        "# Definir variables simbólicas\n",
        "n = sym.symbols(\"n\", real=True)\n",
        "t = sym.symbols(\"t\", real=True)\n",
        "T = sym.symbols(\"T\", real=True)\n",
        "\n",
        "# Definir función periódica\n",
        "Tmin = -1/4  # Definimos el límite mínimo del período\n",
        "Tmax = 1/4  # Definimos el límite máximo del período\n",
        "\n",
        "T = 1  # Definimos el período\n",
        "wo = (2 * sym.pi) / T  # Definimos el omega\n",
        "\n",
        "f = sym.Heaviside(t + 1/4) - sym.Heaviside(t - 1/4)  # Definimos la función\n",
        "\n",
        "# Calculamos los coeficientes de Fourier\n",
        "f_integrar = f  # Función que vamos a integrar\n",
        "a0 = (1 / T) * sym.integrate(f_integrar, (t, Tmin, Tmax))  # Hallamos a0\n",
        "print(\"a0 = \")\n",
        "sym.pprint(a0)  # Imprimir desde SymPy\n",
        "\n",
        "# Calculamos la integral para an\n",
        "f_integrar = f * sym.cos(n * wo * t)\n",
        "an = (4 / T) * sym.integrate(f_integrar, (t, Tmin, Tmax))\n",
        "an = sym.simplify(an)\n",
        "print(\"an = \")\n",
        "sym.pprint(an)\n"
      ]
    },
    {
      "cell_type": "code",
      "source": [
        "#Importar librerías\n",
        "import numpy as np\n",
        "import matplotlib.pyplot as plt\n",
        "import sympy as sym\n",
        "\n",
        "\n",
        "#Definir variables simbolicas\n",
        "\n",
        "n= sym.symbols(\"n \",real=True)\n",
        "t= sym.symbols(\"t \",real=True)\n",
        "T= sym.symbols(\"T \",real=True)\n",
        "\n",
        "#Definir función periódica\n",
        "#Tmin = -1/4 #definimos el limite min periodo\n",
        "#Tmax = 1/4 #definimos el limite max periodo\n",
        "\n",
        "T = 1 #Definimos el periodo\n",
        "wo=(2*np.pi)/T #Definimos el omega\n",
        "\n",
        "f=sym.Heaviside(t+1/4)-sym.Heaviside(t-1/4) #Definimos la función\n",
        "\n",
        "#Calculamos los coeficientes de fourier\n",
        "\n",
        "f_integrar = f #Funcion que vamos a integrar\n",
        "a0 = (1/T)*sym.integrate(f_integrar,(t,-T/4,T/4)) #hallamos a0\n",
        "print(\"a0= \")\n",
        "sym.pprint(a0) #imprimir desde sympy\n",
        "\n",
        "#calculamos la integral para an\n",
        "f_integrar = f*sym.cos(n*wo*t)\n",
        "an= (4/T)*sym.integrate(f_integrar,(t, 0, T/4))\n",
        "an= sym.simplify(an)\n",
        "print(\"an = \")\n",
        "sym.pprint(an)\n"
      ],
      "metadata": {
        "colab": {
          "base_uri": "https://localhost:8080/"
        },
        "id": "g6QbVHzK9T5j",
        "outputId": "1d5a11d6-09ec-48d4-8bc2-be8e23f5abe6"
      },
      "execution_count": null,
      "outputs": [
        {
          "output_type": "stream",
          "name": "stdout",
          "text": [
            "a0= \n",
            "0.500000000000000\n",
            "an = \n",
            "⎧                  1.0                     for n = 0\n",
            "⎪                                                   \n",
            "⎨0.636619772367581⋅sin(1.5707963267949⋅n)           \n",
            "⎪────────────────────────────────────────  otherwise\n",
            "⎩                   n                               \n"
          ]
        }
      ]
    }
  ]
}
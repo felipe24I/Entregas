{
  "nbformat": 4,
  "nbformat_minor": 0,
  "metadata": {
    "colab": {
      "provenance": [],
      "authorship_tag": "ABX9TyM9D5KZphmz3vaafbfJzwN7",
      "include_colab_link": true
    },
    "kernelspec": {
      "name": "python3",
      "display_name": "Python 3"
    },
    "language_info": {
      "name": "python"
    }
  },
  "cells": [
    {
      "cell_type": "markdown",
      "metadata": {
        "id": "view-in-github",
        "colab_type": "text"
      },
      "source": [
        "<a href=\"https://colab.research.google.com/github/felipe24I/Entregas/blob/main/Ejercicios_simulaci%C3%B3n%20_SyS_nov_16/Punto_4.ipynb\" target=\"_parent\"><img src=\"https://colab.research.google.com/assets/colab-badge.svg\" alt=\"Open In Colab\"/></a>"
      ]
    },
    {
      "cell_type": "markdown",
      "source": [
        "#**Ejercicio**"
      ],
      "metadata": {
        "id": "tLIPDBNHUe2x"
      }
    },
    {
      "cell_type": "markdown",
      "source": [
        "4. Fije los valores de los párametros del sistema rlc paralelo, con condiciones iniciales cero, para simular la respuesta subamortiguada, sobreamortiguada, de amortiguamiento critico, oscilatoria e inestable, ante entrada escalón."
      ],
      "metadata": {
        "id": "O9l0RjgQBNJx"
      }
    },
    {
      "cell_type": "markdown",
      "source": [
        "#**Simulación**"
      ],
      "metadata": {
        "id": "igA_0-9PMqKz"
      }
    },
    {
      "cell_type": "markdown",
      "source": [
        "#**Circuito RLC paralelo**\n",
        "\n",
        "\n",
        "\n",
        "*   Salida ante una entrada escalón\n",
        "\n",
        "\n",
        "\n"
      ],
      "metadata": {
        "id": "3QkSTnH9FP29"
      }
    },
    {
      "cell_type": "code",
      "source": [
        "import sympy as sym\n",
        "import matplotlib.pyplot as plt\n",
        "import sympy.physics.control as control\n",
        "sym.init_printing()\n",
        "\n",
        "s = sym.symbols('s', complex=True)\n",
        "t, R, L, C, w = sym.symbols('t R L C omega', positive=True)\n",
        "X = 1 / s # entrada escalon\n",
        "H=control.TransferFunction(1,(L*C)*s**2 + (L*s)/R + 1,s) #Funcion de transferencia con la API de control\n",
        "H\n",
        "Y = H.num * X /H.den#función de transferencia del circuito multiplicad\n",
        "Y"
      ],
      "metadata": {
        "colab": {
          "base_uri": "https://localhost:8080/",
          "height": 58
        },
        "id": "ipHRQcL7DICP",
        "outputId": "515b3fe9-4175-4361-f3dd-b04d14df9bb2"
      },
      "execution_count": 3,
      "outputs": [
        {
          "output_type": "execute_result",
          "data": {
            "text/plain": [
              "         1          \n",
              "────────────────────\n",
              "  ⎛     2   L⋅s    ⎞\n",
              "s⋅⎜C⋅L⋅s  + ─── + 1⎟\n",
              "  ⎝          R     ⎠"
            ],
            "text/latex": "$\\displaystyle \\frac{1}{s \\left(C L s^{2} + \\frac{L s}{R} + 1\\right)}$"
          },
          "metadata": {},
          "execution_count": 3
        }
      ]
    },
    {
      "cell_type": "markdown",
      "source": [
        "para simular la respuesta subamortiguada, sobreamortiguada, de amortiguamiento critico, oscilatoria e inestable, ante entrada escalón. Necesitamos encontrar la forma canónica SLIT de segundo orden\n",
        "\n",
        "\n"
      ],
      "metadata": {
        "id": "MDZWRo63Glwg"
      }
    },
    {
      "cell_type": "code",
      "source": [
        "import sympy as sym\n",
        "import matplotlib.pyplot as plt\n",
        "import numpy as np\n",
        "sym.init_printing()\n",
        "\n",
        "s = sym.symbols('s', complex=True)\n",
        "t,R, L, C = sym.symbols('t R L C', positive=True, real=True)\n",
        "\n",
        "#Entrada de interés en Laplace\n",
        "X = 1/s # X(s) = 1 Respuesta entrada impulso; X(s) = 1/s resp escalón, X(s) = 1/s**2 resp a la rampa\n",
        "#Forma canónica -> resolver según sistema propuesto\n",
        "K = 1 #ganancia estática\n",
        "wn = sym.sqrt(1/(C*L)) #frecuencia natural\n",
        "xi = (sym.sqrt(L*C))/(2*R*C) #factor amortiguamiento\n",
        "H = K*(wn**2/(s**2 + 2*xi*wn*s + wn**2)) #función de transferencia en lazo cerrado slit 2 orden\n",
        "#Hlc = H/(1+H) #para lazo cerrado\n",
        "H\n",
        ""
      ],
      "metadata": {
        "colab": {
          "base_uri": "https://localhost:8080/",
          "height": 58
        },
        "id": "rCUsugoIG8bt",
        "outputId": "1ce7200b-2062-42a4-82de-3835e4a9ea46"
      },
      "execution_count": 13,
      "outputs": [
        {
          "output_type": "execute_result",
          "data": {
            "text/plain": [
              "         1          \n",
              "────────────────────\n",
              "    ⎛ 2    s     1 ⎞\n",
              "C⋅L⋅⎜s  + ─── + ───⎟\n",
              "    ⎝     C⋅R   C⋅L⎠"
            ],
            "text/latex": "$\\displaystyle \\frac{1}{C L \\left(s^{2} + \\frac{s}{C R} + \\frac{1}{C L}\\right)}$"
          },
          "metadata": {},
          "execution_count": 13
        }
      ]
    },
    {
      "cell_type": "markdown",
      "source": [
        "\n",
        "*   Respuesta subamortiguada\n"
      ],
      "metadata": {
        "id": "texvnolTIXxi"
      }
    },
    {
      "cell_type": "code",
      "source": [
        "import numpy as np\n",
        "import matplotlib.pyplot as plt\n",
        "#Fijamos valores DE R, L Y C para mostrar la respuesta subamoritguada\n",
        "R = R.subs({R:100})\n",
        "L = L.subs({L:0.1})\n",
        "C = C.subs({C:0.001})\n",
        "sym.init_printing()\n",
        "xi=(sym.sqrt(L*C))/(2*R*C) #0<xi<1\n",
        "xi\n"
      ],
      "metadata": {
        "colab": {
          "base_uri": "https://localhost:8080/",
          "height": 37
        },
        "id": "_Ozel0SxJURj",
        "outputId": "470f4e51-b184-4ac0-acb3-6e889b36cf0f"
      },
      "execution_count": 22,
      "outputs": [
        {
          "output_type": "execute_result",
          "data": {
            "text/plain": [
              "0.0500000000000000"
            ],
            "text/latex": "$\\displaystyle 0.05$"
          },
          "metadata": {},
          "execution_count": 22
        }
      ]
    },
    {
      "cell_type": "markdown",
      "source": [
        "\n",
        "*  Respuesta sobreamortiguada\n",
        "\n"
      ],
      "metadata": {
        "id": "W6lXQf6zPXMx"
      }
    },
    {
      "cell_type": "code",
      "source": [
        "import numpy as np\n",
        "import matplotlib.pyplot as plt\n",
        "#Fijamos valores DE R, L Y C para mostrar la respuesta sobreamortiguada\n",
        "R = R.subs({R:1})\n",
        "L = L.subs({L:10})\n",
        "C = C.subs({C:1})\n",
        "sym.init_printing()\n",
        "xi=(sym.sqrt(L*C))/(2*R*C) #xi > 1\n",
        "xi\n"
      ],
      "metadata": {
        "colab": {
          "base_uri": "https://localhost:8080/",
          "height": 55
        },
        "id": "5iJ_zydCPnJ1",
        "outputId": "e11546f1-a19f-43c3-b41a-113eb77db5d8"
      },
      "execution_count": 30,
      "outputs": [
        {
          "output_type": "execute_result",
          "data": {
            "text/plain": [
              "√10\n",
              "───\n",
              " 2 "
            ],
            "text/latex": "$\\displaystyle \\frac{\\sqrt{10}}{2}$"
          },
          "metadata": {},
          "execution_count": 30
        }
      ]
    },
    {
      "cell_type": "markdown",
      "source": [
        "\n",
        "\n",
        "*  Respuesta de amortiguamiento crítico\n",
        "\n"
      ],
      "metadata": {
        "id": "eTO4YTwlSBYx"
      }
    },
    {
      "cell_type": "code",
      "source": [
        "import numpy as np\n",
        "import matplotlib.pyplot as plt\n",
        "#Fijamos valores DE R, L Y C para mostrar la respuesta de amortiguamiento crítico\n",
        "R = R.subs({R:1})\n",
        "L = L.subs({L:4})\n",
        "C = C.subs({C:1})\n",
        "sym.init_printing()\n",
        "xi=(sym.sqrt(L*C))/(2*R*C) #xi = 1\n",
        "xi"
      ],
      "metadata": {
        "colab": {
          "base_uri": "https://localhost:8080/",
          "height": 37
        },
        "id": "-VxIV-DQSheA",
        "outputId": "dd48b6a9-6542-4a8e-8ff4-902ec680c725"
      },
      "execution_count": 32,
      "outputs": [
        {
          "output_type": "execute_result",
          "data": {
            "text/plain": [
              "1"
            ],
            "text/latex": "$\\displaystyle 1$"
          },
          "metadata": {},
          "execution_count": 32
        }
      ]
    },
    {
      "cell_type": "markdown",
      "source": [
        "\n",
        "\n",
        "*  Respuesta oscilatoria\n",
        "\n",
        "\n"
      ],
      "metadata": {
        "id": "bmI8oDjtS2gj"
      }
    },
    {
      "cell_type": "code",
      "source": [
        "import numpy as np\n",
        "import matplotlib.pyplot as plt\n",
        "#Fijamos valores DE R, L Y C para mostrar la respuesta de amortiguamiento crítico\n",
        "R = R.subs({R:1})\n",
        "L = L.subs({L:0})\n",
        "C = C.subs({C:1})\n",
        "sym.init_printing()\n",
        "xi=(sym.sqrt(L*C))/(2*R*C) #xi = 0\n",
        "xi"
      ],
      "metadata": {
        "colab": {
          "base_uri": "https://localhost:8080/",
          "height": 37
        },
        "id": "cfJEyGlGTdGE",
        "outputId": "42f1afdc-f5a8-4530-c790-4f7d59e2b9bd"
      },
      "execution_count": 33,
      "outputs": [
        {
          "output_type": "execute_result",
          "data": {
            "text/plain": [
              "0"
            ],
            "text/latex": "$\\displaystyle 0$"
          },
          "metadata": {},
          "execution_count": 33
        }
      ]
    },
    {
      "cell_type": "markdown",
      "source": [
        "\n",
        "\n",
        "*   Respuesta inestable\n",
        "\n",
        "\n"
      ],
      "metadata": {
        "id": "64wo-vj0Ts_g"
      }
    },
    {
      "cell_type": "code",
      "source": [
        "import numpy as np\n",
        "import matplotlib.pyplot as plt\n",
        "#Fijamos valores DE R, L Y C para mostrar la respuesta de amortiguamiento crítico\n",
        "R = R.subs({R:-1})\n",
        "L = L.subs({L:1})\n",
        "C = C.subs({C:1})\n",
        "sym.init_printing()\n",
        "xi=(sym.sqrt(L*C))/(2*R*C) #xi < 0\n",
        "xi"
      ],
      "metadata": {
        "colab": {
          "base_uri": "https://localhost:8080/",
          "height": 51
        },
        "id": "K4fDfb7OT0Dj",
        "outputId": "8c0aa2ef-f636-4a16-fe50-e2a395f65645"
      },
      "execution_count": 35,
      "outputs": [
        {
          "output_type": "execute_result",
          "data": {
            "text/plain": [
              "-1/2"
            ],
            "text/latex": "$\\displaystyle - \\frac{1}{2}$"
          },
          "metadata": {},
          "execution_count": 35
        }
      ]
    }
  ]
}
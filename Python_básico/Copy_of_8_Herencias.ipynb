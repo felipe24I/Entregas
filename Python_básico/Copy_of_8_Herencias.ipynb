{
  "nbformat": 4,
  "nbformat_minor": 0,
  "metadata": {
    "colab": {
      "provenance": [],
      "include_colab_link": true
    },
    "kernelspec": {
      "name": "python3",
      "display_name": "Python 3"
    },
    "language_info": {
      "name": "python"
    }
  },
  "cells": [
    {
      "cell_type": "markdown",
      "metadata": {
        "id": "view-in-github",
        "colab_type": "text"
      },
      "source": [
        "<a href=\"https://colab.research.google.com/github/felipe24I/Entregas/blob/main/Python_b%C3%A1sico/Copy_of_8_Herencias.ipynb\" target=\"_parent\"><img src=\"https://colab.research.google.com/assets/colab-badge.svg\" alt=\"Open In Colab\"/></a>"
      ]
    },
    {
      "cell_type": "markdown",
      "source": [
        "# Herencias en clases\n",
        "\n",
        "En programación, las herencias se refieren a la capacidad de una clase (llamada clase derivada o subclase) de heredar propiedades y métodos de otra clase (llamada clase base o superclase).\n",
        "\n",
        "La herencia es un concepto fundamental en la programación orientada a objetos (POO) y permite crear jerarquías de clases, donde las clases derivadas heredan características comunes de la clase base y también pueden agregar sus propias propiedades y métodos específicos.\n",
        "\n",
        "La herencia permite reutilizar el código existente, ya que las clases derivadas pueden aprovechar la funcionalidad implementada en la clase base sin tener que volver a escribirlo. Esto promueve la modularidad, el mantenimiento y la extensibilidad del código."
      ],
      "metadata": {
        "id": "vK6RvvN_QnR6"
      }
    },
    {
      "cell_type": "markdown",
      "source": [
        "### Ejemplo #1\n",
        "\n",
        "Supongamos que estás creando un programa para administrar empleados en una empresa. Tienes una clase base llamada \"Empleado\" y quieres crear una clase derivada llamada \"EmpleadoAsalariado\" que herede de la clase base."
      ],
      "metadata": {
        "id": "4r5En97IRAL5"
      }
    },
    {
      "cell_type": "code",
      "execution_count": 7,
      "metadata": {
        "id": "w7MZ5olnQkUm",
        "outputId": "f94d5616-2556-4abf-8efe-31396b6de148",
        "colab": {
          "base_uri": "https://localhost:8080/"
        }
      },
      "outputs": [
        {
          "output_type": "stream",
          "name": "stdout",
          "text": [
            "2000\n",
            "3000\n"
          ]
        }
      ],
      "source": [
        "class Empleado:\n",
        "    def __init__(self, nombre, salario):\n",
        "        self.nombre = nombre\n",
        "        self.salario = salario\n",
        "\n",
        "    def obtener_salario(self):\n",
        "        return self.salario\n",
        "\n",
        "class EmpleadoAsalariado(Empleado):\n",
        "    def __init__(self, nombre, salario, bono):\n",
        "        super().__init__(nombre, salario)  # Llama al constructor de la clase base\n",
        "        self.bono = bono\n",
        "\n",
        "    def obtener_salario(self):\n",
        "        return self.salario + self.bono\n",
        "\n",
        "# Creamos una instancia de la clase base\n",
        "empleado1 = Empleado(\"Juan\", 2000)\n",
        "print(empleado1.obtener_salario())  # Output: 2000\n",
        "\n",
        "# Creamos una instancia de la clase derivada\n",
        "empleado2 = EmpleadoAsalariado(\"Pedro\", 2500, 500)\n",
        "print(empleado2.obtener_salario())  # Output: 3000 (salario + bono)"
      ]
    },
    {
      "cell_type": "markdown",
      "source": [
        "En este ejemplo, la clase base \"Empleado\" tiene un constructor que recibe el nombre y el salario del empleado, y un método llamado \"obtener_salario()\" que devuelve el salario.\n",
        "\n",
        "La clase derivada \"EmpleadoAsalariado\" hereda de la clase base \"Empleado\" y agrega un nuevo atributo llamado \"bono\". Además, se anula el método \"obtener_salario()\" de la clase base para incluir el bono en el cálculo.\n",
        "\n",
        "Luego, creamos una instancia de la clase base \"Empleado\" y llamamos al método \"obtener_salario()\", devolviendo el salario básico.\n",
        "\n",
        "Después, creamos una instancia de la clase derivada \"EmpleadoAsalariado\" y llamamos al método \"obtener_salario()\", que devuelve el salario básico más el bono.\n",
        "\n",
        "Este ejemplo simplificado muestra cómo la clase derivada hereda los atributos y métodos de la clase base y puede agregar su propia funcionalidad."
      ],
      "metadata": {
        "id": "8pCtoWwfUQrG"
      }
    },
    {
      "cell_type": "markdown",
      "source": [
        "###Ejemplo #2\n",
        "\n",
        "Clases heredadas de automoviles"
      ],
      "metadata": {
        "id": "6RJac47SURZq"
      }
    },
    {
      "cell_type": "code",
      "source": [
        "class Vehiculo:\n",
        "    def __init__(self, marca, modelo, color):\n",
        "        self.marca = marca\n",
        "        self.modelo = modelo\n",
        "        self.color = color\n",
        "\n",
        "    def acelerar(self):\n",
        "        print(\"El vehículo está acelerando.\")\n",
        "\n",
        "    def frenar(self):\n",
        "        print(\"El vehículo está frenando.\")\n",
        "\n",
        "class Carro(Vehiculo):\n",
        "    def __init__(self, marca, modelo, color, num_puertas):\n",
        "        super().__init__(marca, modelo, color)\n",
        "        self.num_puertas = num_puertas\n",
        "\n",
        "    def abrir_puertas(self):\n",
        "        print(\"Las puertas del carro están abiertas.\")\n",
        "\n",
        "class Autobus(Vehiculo):\n",
        "    def __init__(self, marca, modelo, color, capacidad_pasajeros):\n",
        "        super().__init__(marca, modelo, color)\n",
        "        self.capacidad_pasajeros = capacidad_pasajeros\n",
        "\n",
        "    def subir_pasajeros(self):\n",
        "        print(\"Los pasajeros están subiendo al autobús.\")\n",
        "\n",
        "class Motocicleta(Vehiculo):\n",
        "    def __init__(self, marca, modelo, color, cilindrada):\n",
        "        super().__init__(marca, modelo, color)\n",
        "        self.cilindrada = cilindrada\n",
        "\n",
        "    def encender(self):\n",
        "        print(\"La motocicleta está encendida.\")\n",
        "\n",
        "class Hibrido(Carro):\n",
        "    def __init__(self, marca, modelo, color, num_puertas,modo_electrico):\n",
        "        super().__init__(marca, modelo, color, num_puertas)\n",
        "        self.modo_electrico = False\n",
        "\n",
        "\n",
        "    def activar_modo_electrico(self):\n",
        "        self.modo_electrico = True\n",
        "        print(\"El vehículo híbrido está en modo eléctrico.\")\n",
        "\n",
        "class Camion(Vehiculo):\n",
        "    def __init__(self, marca, modelo, color, capacidad_carga):\n",
        "        super().__init__(marca, modelo, color)\n",
        "        self.capacidad_carga = capacidad_carga\n",
        "\n",
        "    def cargar_mercancia(self):\n",
        "        print(\"Se está cargando la mercancía en el camión.\")"
      ],
      "metadata": {
        "id": "xYt75MD3Yy46"
      },
      "execution_count": 6,
      "outputs": []
    },
    {
      "cell_type": "markdown",
      "source": [
        "En este ejemplo, tenemos una clase base llamada \"Vehiculo\" que contiene atributos y métodos generales que son comunes a todos los vehículos. Luego, tenemos las clases derivadas \"Carro\", \"Autobus\", \"Motocicleta\", \"Hibrido\" y \"Camion\" que heredan de la clase base y añaden atributos y métodos específicos.\n",
        "\n",
        "Cada clase derivada tiene su propio constructor que llama al constructor de la clase base utilizando la función super(). Además, cada clase derivada puede tener sus propios métodos adicionales según las características particulares del tipo de vehículo.\n",
        "\n",
        "Con este ejemplo, puedes crear instancias de los diferentes tipos de vehículos y acceder a sus métodos y atributos heredados. Por ejemplo:"
      ],
      "metadata": {
        "id": "-Gzan4-0duTq"
      }
    },
    {
      "cell_type": "code",
      "source": [
        "carro = Carro(\"Toyota\", \"Corolla\", \"Rojo\", 4)\n",
        "carro.acelerar()\n",
        "carro.abrir_puertas()\n",
        "\n",
        "autobus = Autobus(\"Mercedes\", \"Citaro\", \"Blanco\", 50)\n",
        "autobus.frenar()\n",
        "autobus.subir_pasajeros()\n",
        "\n",
        "motocicleta = Motocicleta(\"Honda\", \"CBR\", \"Negro\", 500)\n",
        "motocicleta.encender()\n",
        "motocicleta.frenar()\n",
        "\n",
        "hibrido = Hibrido(\"Toyota\", \"Prius\", \"Azul\", 4)\n"
      ],
      "metadata": {
        "colab": {
          "base_uri": "https://localhost:8080/"
        },
        "id": "0MxNgAgyd3b7",
        "outputId": "6fe00ce4-aa20-4524-8ebb-1536cac79fcd"
      },
      "execution_count": null,
      "outputs": [
        {
          "output_type": "stream",
          "name": "stdout",
          "text": [
            "El vehículo está acelerando.\n",
            "Las puertas del carro están abiertas.\n",
            "El vehículo está frenando.\n",
            "Los pasajeros están subiendo al autobús.\n",
            "La motocicleta está encendida.\n",
            "El vehículo está frenando.\n"
          ]
        }
      ]
    },
    {
      "cell_type": "markdown",
      "source": [
        "## Ejercicio_1.\n",
        "\n",
        "Crea un sistema de manejo de figuras geométricas utilizando clases y herencia. Debes tener una clase base llamada \"FiguraGeometrica\" con un método abstracto llamado \"calcular_area()\". Luego, crea clases derivadas para diferentes tipos de figuras geométricas, como \"Círculo\", \"Rectángulo\" y \"Triángulo\". Cada clase derivada debe implementar el método \"calcular_area()\" de acuerdo con la fórmula correspondiente para el cálculo del área de esa figura."
      ],
      "metadata": {
        "id": "ZjKccYRmvtN7"
      }
    },
    {
      "cell_type": "code",
      "source": [
        "\n",
        "import numpy as np\n",
        "\n",
        "#Creo clase base llamada FiguraGeometrica\n",
        "class FiguraGeometrica:\n",
        "    def __init__(self, base, altura): #Defino método constructor, que es para darle un estado inicial a los objetos de esta clase\n",
        "      self.base = base #atributo base\n",
        "      self.altura = altura #atributo altura\n",
        "\n",
        "#Creo clase base llamada FiguraGeometrica_Conica\n",
        "class FiguraGeometrica_Conica:\n",
        "    def __init__(self, radio): #Defino método constructor, que es para darle un estado inicial a los objetos de esta clase\n",
        "      self.radio = radio #atributo radio\n",
        "\n",
        "class Triangulo(FiguraGeometrica): #Creo una clase derivada de FiguraGeometrica llamada Triangulo\n",
        "    def __init__(self, base, altura): #Defino método constructor, que es para darle un estado inicial a los objetos de esta clase\n",
        "      super().__init__(base,altura) #Heredo el método constructor de la clase base\n",
        "\n",
        "    def CalcularAreaT(self): #Defino método de clase Triangulo llamado CalcularAreaT y le paso como argumento el objeto\n",
        "      area= round((self.base*self.altura)/2,3) #Calculo del area\n",
        "      print('El area del triangulo es: ',area) #imprimo el area\n",
        "\n",
        "class Cuadrilatero(FiguraGeometrica): #Creo una clase derivada de FiguraGeometrica llamada Cuadrilatero\n",
        "    def __init__(self, base, altura): #Defino método constructor, que es para darle un estado inicial a los objetos de esta clase\n",
        "      super().__init__(base, altura) #Heredo el método constructor de la clase base\n",
        "\n",
        "    def CalcularAreaC(self): #Defino método de clase Cuadrilatero llamado CalcularAreaC y le paso como argumento el objeto\n",
        "      area = self.base*self.altura #Calculo del area\n",
        "      print('El area del cuadrilatero es:', area ) #imprimo el area\n",
        "\n",
        "class Circulo(FiguraGeometrica_Conica): #Creo una clase derivada de FiguraGeometrica_Conica llamada Circulo\n",
        "    def _init_(self, radio): #Defino método constructor, que es para darle un estado inicial a los objetos de esta clase\n",
        "      super()._init_(radio) #Heredo el método constructor de la clase base\n",
        "\n",
        "    def CalcularAreaCi(self): #Defino método de clase Circulo llamado CalcularAreaCi y le paso como argumento el objeto\n",
        "      area = round(np.pi*(self.radio**2), 3) #Calculo del area\n",
        "      print('El área del circulo es: ', area) #imprimo el area\n",
        "\n",
        "#Creación de objetos\n",
        "\n",
        "triangulo1 = Triangulo(20,5)\n",
        "triangulo2 = Triangulo(10,5)\n",
        "triangulo3 = Triangulo(10,15)\n",
        "cuadrilatero = Cuadrilatero(20,5)\n",
        "circulo = Circulo(4)\n",
        "\n",
        "#llamo parametros\n",
        "\n",
        "triangulo1.CalcularAreaT()\n",
        "triangulo2.CalcularAreaT()\n",
        "triangulo3.CalcularAreaT()\n",
        "cuadrilatero.CalcularAreaC()\n",
        "circulo.CalcularAreaCi()\n",
        "\n"
      ],
      "metadata": {
        "id": "nTOpNPW9anQv",
        "outputId": "0807c12b-abd8-43ea-f0d1-0c2688f1a053",
        "colab": {
          "base_uri": "https://localhost:8080/"
        }
      },
      "execution_count": 9,
      "outputs": [
        {
          "output_type": "stream",
          "name": "stdout",
          "text": [
            "El area del triangulo es:  50.0\n",
            "El area del triangulo es:  25.0\n",
            "El area del triangulo es:  75.0\n",
            "El area del cuadrilatero es: 100\n",
            "El área del circulo es:  50.265\n"
          ]
        }
      ]
    },
    {
      "cell_type": "markdown",
      "source": [
        "## Ejercicio_2\n",
        "\n",
        "Crea un sistema de reserva de vuelos utilizando clases y herencia. Debes tener una clase base llamada \"Vuelo\" con los siguientes atributos: número de vuelo, origen, destino, y capacidad máxima de pasajeros. Luego, crea una clase derivada llamada \"VueloEconomico\" que herede de la clase base y agregue un atributo adicional llamado \"tarifa\". Además, agrega métodos en ambas clases para mostrar la información del vuelo y realizar una reserva de asientos.\n",
        "\n",
        "La clase base \"Vuelo\" debe tener un método para verificar si hay asientos disponibles y otro para realizar la reserva de un asiento. La clase derivada \"VueloEconomico\" puede tener métodos adicionales para calcular el precio total de la reserva de acuerdo con la tarifa y la cantidad de asientos reservados."
      ],
      "metadata": {
        "id": "VVeP1H2KwHaa"
      }
    },
    {
      "cell_type": "code",
      "source": [
        "\n",
        "asientos = [[1,1,1],[1,1,1],[1,1,1]]\n",
        "tarifa = 50000\n",
        "\n",
        "\n",
        "class Vuelo:\n",
        "    def _init_(self, nvuelo, origen, destino, cmpasajeros):\n",
        "      self.nvuelo = nvuelo\n",
        "      self.origen = origen\n",
        "      self.destino = destino\n",
        "      self.cmpasajeros = cmpasajeros\n",
        "\n",
        "    def ocuparAsientos(self):\n",
        "      print('Asientos donde 1 es disponible y 0 es ocupado\\n',asientos)\n",
        "      contador = 0\n",
        "      x = int(input('Ingrese el número de asientos que desea comprar: '))\n",
        "      while contador < x:\n",
        "        fila = int(input('Seleccion una fila sea 0, 1 o 2: '))\n",
        "        columna = int(input('Seleccione una columna de 0, 1 o 2: '))\n",
        "        if asientos[fila][columna] == 1:\n",
        "          asientos[fila][columna] = 0\n",
        "          contador += 1\n",
        "          print('Su asiento esta en la fila: ', fila,'y columna: ',columna)\n",
        "\n",
        "        else:\n",
        "          print('Asiento ocupado')\n",
        "\n",
        "class VueloEconomico(Vuelo):\n",
        "    def _init_(self, nvuelo, origen, destino, cmpasajeros, tarifa):\n",
        "      super()._init_(nvuelo, origen, destino, cmpasajeros)\n",
        "      self.tarifa = tarifa\n",
        "\n",
        "    def ocuparAsientos(self):\n",
        "      print('Asientos donde 1 es disponible y 0 es ocupado\\n',asientos)\n",
        "      x = int(input('Cuantos asientos desea reservar: '))\n",
        "      contador = 0\n",
        "      while contador < x:\n",
        "        fila = int(input('Seleccion una fila sea 0, 1 o 2: '))\n",
        "        columna = int(input('Seleccione una columna de 0, 1 o 2: '))\n",
        "        if asientos[fila][columna] == 1:\n",
        "          asientos[fila][columna] = 0\n",
        "          print('Su asiento esta en la fila: ', fila,'y columna: ',columna)\n",
        "          contador += 1\n",
        "        else:\n",
        "          print('Asiento ocupado')\n",
        "      precio = self.tarifa*x\n",
        "      print('La tarifa total es: ', precio)\n",
        "\n",
        "\n",
        "vuelo = Vuelo(82,'manizales', 'bogota', 9)\n",
        "vuelo.ocuparAsientos()\n",
        "vueloe= VueloEconomico(82,'manizales', 'bogota', 9, tarifa)\n",
        "vueloe.ocuparAsientos()"
      ],
      "metadata": {
        "id": "APPLYFamaqmy"
      },
      "execution_count": null,
      "outputs": []
    }
  ]
}
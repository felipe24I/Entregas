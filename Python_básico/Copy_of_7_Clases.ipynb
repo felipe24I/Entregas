{
  "nbformat": 4,
  "nbformat_minor": 0,
  "metadata": {
    "colab": {
      "provenance": [],
      "include_colab_link": true
    },
    "kernelspec": {
      "name": "python3",
      "display_name": "Python 3"
    },
    "language_info": {
      "name": "python"
    }
  },
  "cells": [
    {
      "cell_type": "markdown",
      "metadata": {
        "id": "view-in-github",
        "colab_type": "text"
      },
      "source": [
        "<a href=\"https://colab.research.google.com/github/felipe24I/Entregas/blob/main/Python_b%C3%A1sico/Copy_of_7_Clases.ipynb\" target=\"_parent\"><img src=\"https://colab.research.google.com/assets/colab-badge.svg\" alt=\"Open In Colab\"/></a>"
      ]
    },
    {
      "cell_type": "markdown",
      "source": [
        "# Clases en python.\n",
        "\n",
        "Las clases son una forma de organizar y estructurar el código en Python. Pueden contener funciones y variables, lo que las hace muy versátiles. Las clases son una parte fundamental de la programación orientada a objetos (POO).\n",
        "\n",
        "La POO es un paradigma de programación que utiliza objetos para representar entidades del mundo real. Por ejemplo, una clase \"Coche\" podría representar un coche del mundo real, con sus propiedades (marca, modelo, color, etc.) y sus métodos (acelerar, frenar, girar, etc.).\n",
        "\n",
        "\n",
        "En términos simples, una clase en programación es una plantilla o molde que se utiliza para crear objetos. La clase define las propiedades y los comportamientos de los objetos que se crean a partir de ella.\n",
        "\n",
        "**Ejemplo**:\n",
        "\n",
        "Piensa en una clase como si fuera un plano para construir un edificio. El plano especifica cómo debe ser el edificio, incluyendo el número de pisos, el número de habitaciones, el tamaño de las ventanas, etc.\n",
        "\n",
        "De manera similar, una clase define las características y comportamientos que tendrá un objeto. Por ejemplo, si tenemos una clase \"Coche\", podemos definir las propiedades de un coche, como su marca, modelo, color, etc. y los comportamientos que tiene un coche, como acelerar, frenar y girar. Luego, podemos crear múltiples objetos \"coche\" a partir de esta clase, cada uno con sus propias propiedades y comportamientos.\n",
        "\n"
      ],
      "metadata": {
        "id": "hFnAE4eorCHN"
      }
    },
    {
      "cell_type": "markdown",
      "source": [
        "### **Crear una clase**\n",
        "\n",
        "Para crear una clase en Python, usamos la palabra clave \"class\", seguida del nombre de la clase:"
      ],
      "metadata": {
        "id": "E-tNF60K_9b9"
      }
    },
    {
      "cell_type": "code",
      "execution_count": null,
      "metadata": {
        "id": "hi8DOAlZmPjH",
        "colab": {
          "base_uri": "https://localhost:8080/",
          "height": 143
        },
        "outputId": "811d50a3-b874-4f85-f5a3-897a106cb617"
      },
      "outputs": [
        {
          "output_type": "error",
          "ename": "SyntaxError",
          "evalue": "ignored",
          "traceback": [
            "\u001b[0;36m  File \u001b[0;32m\"<ipython-input-1-0bc96e81d1fc>\"\u001b[0;36m, line \u001b[0;32m1\u001b[0m\n\u001b[0;31m    class Coche:\u001b[0m\n\u001b[0m                ^\u001b[0m\n\u001b[0;31mSyntaxError\u001b[0m\u001b[0;31m:\u001b[0m incomplete input\n"
          ]
        }
      ],
      "source": [
        "class Coche:"
      ]
    },
    {
      "cell_type": "markdown",
      "source": [
        "Dentro de la clase, podemos definir variables y funciones. Las variables se llaman \"atributos\" y las funciones se llaman \"métodos\"."
      ],
      "metadata": {
        "id": "aTnx3vjGAIh7"
      }
    },
    {
      "cell_type": "markdown",
      "source": [
        "#### **Atributos**\n",
        "\n",
        "Los atributos son variables que pertenecen a una clase. Por ejemplo, en una clase \"Coche\", los atributos podrían ser \"marca\", \"modelo\" y \"color\". Para definir un atributo, lo hacemos dentro de la clase, pero fuera de cualquier método:"
      ],
      "metadata": {
        "id": "DT2TvFHxAJlz"
      }
    },
    {
      "cell_type": "code",
      "source": [
        "class Coche:\n",
        "    marca = \"Toyota\"\n",
        "    modelo = \"Corolla\"\n",
        "    color = \"Rojo\""
      ],
      "metadata": {
        "id": "sfC5pdD7ANuq"
      },
      "execution_count": null,
      "outputs": []
    },
    {
      "cell_type": "markdown",
      "source": [
        "#### **Métodos**\n",
        "\n",
        "Los métodos son funciones que pertenecen a una clase. Por ejemplo, en una clase \"Coche\", los métodos podrían ser \"acelerar\", \"frenar\" y \"girar\". Para definir un método, lo hacemos dentro de la clase:\n",
        "\n"
      ],
      "metadata": {
        "id": "1TDchxG8ASQD"
      }
    },
    {
      "cell_type": "code",
      "source": [
        "class Coche:\n",
        "    marca = \"Toyota\"\n",
        "    modelo = \"Corolla\"\n",
        "    color = \"Rojo\"\n",
        "\n",
        "    def acelerar(self):\n",
        "        print(\"El coche está acelerando\")\n",
        "\n",
        "    def frenar(self):\n",
        "        print(\"El coche está frenando\")\n",
        "\n",
        "    def girar(self, direccion):\n",
        "        print(\"El coche está girando hacia \" + direccion)"
      ],
      "metadata": {
        "id": "q33frF1wAX9C"
      },
      "execution_count": null,
      "outputs": []
    },
    {
      "cell_type": "markdown",
      "source": [
        "**Nota**: El primer parámetro de un método siempre es \"self\". Este parámetro hace referencia al objeto que se está creando. Por ejemplo, si creamos un objeto \"coche\" a partir de la clase \"Coche\", al llamar al método \"acelerar\", el objeto \"coche\" se pasará automáticamente como primer parámetro."
      ],
      "metadata": {
        "id": "o41PexstAdY6"
      }
    },
    {
      "cell_type": "markdown",
      "source": [
        "### **Crear un objeto**\n",
        "\n",
        "Para crear un objeto a partir de una clase, simplemente hacemos lo siguiente:"
      ],
      "metadata": {
        "id": "hnRv4ZMtAgt7"
      }
    },
    {
      "cell_type": "code",
      "source": [
        "coche = Coche()"
      ],
      "metadata": {
        "id": "4TlvhlD1Alrs"
      },
      "execution_count": null,
      "outputs": []
    },
    {
      "cell_type": "markdown",
      "source": [
        "Esto crea un objeto \"coche\" a partir de la clase \"Coche\". Podemos acceder a los atributos y métodos del objeto de la siguiente manera:"
      ],
      "metadata": {
        "id": "fMCPalavAm-D"
      }
    },
    {
      "cell_type": "code",
      "source": [
        "print(coche.marca)\n",
        "print(coche.modelo)\n",
        "print(coche.color)\n",
        "\n",
        "coche.acelerar()\n",
        "coche.frenar()\n",
        "coche.girar(\"izquierda\")"
      ],
      "metadata": {
        "id": "HZAkrbk7Aoti",
        "colab": {
          "base_uri": "https://localhost:8080/"
        },
        "outputId": "16ae645a-5c8f-479a-9599-d6fc4875c6f8"
      },
      "execution_count": null,
      "outputs": [
        {
          "output_type": "stream",
          "name": "stdout",
          "text": [
            "Toyota\n",
            "Corolla\n",
            "Rojo\n",
            "El coche está acelerando\n",
            "El coche está frenando\n",
            "El coche está girando hacia izquierda\n"
          ]
        }
      ]
    },
    {
      "cell_type": "markdown",
      "source": [
        "### Ejemplo_1\n",
        "\n",
        "En este ejemplo, podríamos crear una clase llamada \"Perro\" que tenga atributos como nombre, raza, edad, tamaño, y métodos como ladrar, correr, morder, etc."
      ],
      "metadata": {
        "id": "TR-xIdH1AqQL"
      }
    },
    {
      "cell_type": "code",
      "source": [
        "class Perro:\n",
        "    def __init__(self, nombre, raza, edad, tamaño):\n",
        "        self.nombre = nombre\n",
        "        self.raza = raza\n",
        "        self.edad = edad\n",
        "        self.tamaño = tamaño\n",
        "\n",
        "    def ladrar(self):\n",
        "        print(f\"{self.nombre} está ladrando.\")\n",
        "\n",
        "    def correr(self):\n",
        "        print(f\"{self.nombre} está corriendo.\")\n",
        "\n",
        "    def morder(self):\n",
        "        print(f\"{self.nombre} está mordiendo.\")"
      ],
      "metadata": {
        "id": "Rk7z54NkA9OK"
      },
      "execution_count": null,
      "outputs": []
    },
    {
      "cell_type": "markdown",
      "source": [
        "En este ejemplo, la función '__init__' es el constructor de la clase, que se utiliza para inicializar los atributos de la clase. Luego, se definen los métodos ladrar, correr y morder que describen los comportamientos que puede tener un perro.\n",
        "\n",
        "Podemos crear objetos de la clase \"Perro\" de la siguiente manera:"
      ],
      "metadata": {
        "id": "KLr8hp8oA6ai"
      }
    },
    {
      "cell_type": "code",
      "source": [
        "perro1 = Perro(\"Fido\", \"Labrador\", 3, \"Grande\")\n",
        "perro2 = Perro(\"Toby\", \"Chihuahua\", 2, \"Pequeño\")"
      ],
      "metadata": {
        "id": "N2HsvjXhA-jB"
      },
      "execution_count": null,
      "outputs": []
    },
    {
      "cell_type": "markdown",
      "source": [
        "Cada objeto creado a partir de la clase \"Perro\" tendrá sus propios atributos y comportamientos. Por ejemplo, podemos llamar al método ladrar del objeto perro1 de la siguiente manera"
      ],
      "metadata": {
        "id": "fQEU8p17Cayg"
      }
    },
    {
      "cell_type": "code",
      "source": [
        "perro1.ladrar()"
      ],
      "metadata": {
        "id": "rhS8cNz8Calx",
        "outputId": "92dbf61e-0c65-4761-bb96-7d8381534e79",
        "colab": {
          "base_uri": "https://localhost:8080/"
        }
      },
      "execution_count": null,
      "outputs": [
        {
          "output_type": "stream",
          "name": "stdout",
          "text": [
            "Fido está ladrando.\n"
          ]
        }
      ]
    },
    {
      "cell_type": "markdown",
      "source": [
        "### Ejercicio_2\n",
        "\n",
        "Supongamos que estás construyendo un sistema de tienda en línea en Python. El sistema necesita manejar muchos productos diferentes, cada uno con sus propias propiedades como nombre, descripción, precio, inventario, etc. También necesita manejar diferentes clientes y sus órdenes de compra."
      ],
      "metadata": {
        "id": "tDvFelEXCtPB"
      }
    },
    {
      "cell_type": "markdown",
      "source": [
        "**¿Cómo podemos hacerlo?**\n",
        "\n",
        "Por ejemplo, podríamos crear una clase \"Producto\" que tenga atributos como nombre, descripción, precio, inventario, etc., y métodos para agregar y eliminar productos del inventario.\n",
        "\n",
        "De manera similar, podríamos crear una clase \"Cliente\" que tenga atributos como nombre, dirección de correo electrónico, historial de compras, etc., y métodos para realizar pedidos y revisar su historial de compras.\n",
        "\n",
        "Finalmente, podríamos crear una clase \"Orden\" que tenga atributos como los productos que se compraron, la cantidad, el costo total, etc., y métodos para confirmar la orden y actualizar el inventario.\n"
      ],
      "metadata": {
        "id": "WBaNntfvDcnQ"
      }
    },
    {
      "cell_type": "code",
      "source": [
        "class Producto:\n",
        "    def __init__(self, nombre, descripcion, precio, inventario):\n",
        "        self.nombre = nombre\n",
        "        self.descripcion = descripcion\n",
        "        self.precio = precio\n",
        "        self.inventario = inventario\n",
        "\n",
        "    def agregar_inventario(self, cantidad):\n",
        "        self.inventario += cantidad\n",
        "\n",
        "    def eliminar_inventario(self, cantidad):\n",
        "        self.inventario -= cantidad"
      ],
      "metadata": {
        "id": "fPeeKFK3Dil2"
      },
      "execution_count": null,
      "outputs": []
    },
    {
      "cell_type": "markdown",
      "source": [
        "En este ejemplo, la función __init__ es el constructor de la clase \"Producto\" y se utiliza para inicializar los atributos de la clase. Los métodos agregar_inventario y eliminar_inventario se utilizan para agregar o eliminar productos del inventario.\n",
        "\n",
        "Con estas clases, podemos manejar fácilmente la información de los productos, los clientes y las órdenes de compra en nuestro sistema de tienda en línea"
      ],
      "metadata": {
        "id": "xxxNYz0FDoUf"
      }
    },
    {
      "cell_type": "markdown",
      "source": [
        "## Ejercicios\n",
        "\n",
        "1. Crea una clase \"Persona\" que tenga atributos como nombre, edad, género y métodos para presentarse y saludar a otras personas.\n",
        "\n",
        "2. Crea una clase \"Coche\" que tenga atributos como marca, modelo, año, kilometraje y métodos para arrancar, acelerar y frenar.\n",
        "\n",
        "3. Crea una clase \"Rectángulo\" que tenga atributos como longitud y ancho y métodos para calcular el área y el perímetro.\n",
        "\n",
        "4. Crea una clase \"Banco\" que tenga atributos como nombre, dirección y métodos para abrir una cuenta, depositar dinero, retirar dinero y revisar el saldo.\n",
        "\n",
        "5. Crea una clase \"Estudiante\" que tenga atributos como nombre, edad, promedio y métodos para estudiar, hacer tareas y presentar exámenes."
      ],
      "metadata": {
        "id": "laT0U1q4D0eP"
      }
    },
    {
      "cell_type": "code",
      "source": [
        "class Persona:\n",
        "  def __init__(self,nombre,edad,genero): #Defino método constructor, me cda un estado inicial al objeto\n",
        "    self.nombre = nombre #Atributo nombre\n",
        "    self.edad = edad #Atributo edad\n",
        "    self.genero = genero #Atributo genero\n",
        "  def presentarse(self): #defino método presentarse\n",
        "    print(\"mi nombre es \",self.nombre,\" y tengo \",self.edad,\" años\")\n",
        "  def saludar(self): #defino método saludar\n",
        "    print(\"Hola \",self.nombre)\n",
        "\n",
        "#Creación de objetos (personas)\n",
        "persona1=Persona(\"felipe\",21,\"masculino\")\n",
        "persona2=Persona(\"Manuela\",20,\"femenino\")\n",
        "persona1.presentarse() #llamo método presentarse para la persona 1\n",
        "persona2.saludar() #llamo método saludar para la persona 2\n",
        "\n",
        "\n"
      ],
      "metadata": {
        "id": "xnh8KjtgG-2A",
        "colab": {
          "base_uri": "https://localhost:8080/"
        },
        "outputId": "175087c9-5e45-40e9-b887-abfd59e284ac"
      },
      "execution_count": null,
      "outputs": [
        {
          "output_type": "stream",
          "name": "stdout",
          "text": [
            "mi nombre es  felipe  y tengo  21  años\n",
            "Hola  Manuela\n"
          ]
        }
      ]
    },
    {
      "cell_type": "code",
      "source": [
        "class Coche:\n",
        "  def __init__(self,marca,modelo,año,kilometraje): #Defino método constructor, me da un estado inicial al objeto\n",
        "    self.marca = marca #Atributo marca\n",
        "    self.modelo = modelo #Atributo modelo\n",
        "    self.año = año #Atributo año\n",
        "    self.kilometraje = kilometraje #Atributo kilometraje\n",
        "  def arrancar(self): #defino método arrancar\n",
        "    print(\"el \",self.marca,\" modelo \",self.modelo,\" año \",self.año, \" y kilometraje \",self.kilometraje, \" esta arrancando\")\n",
        "  def acelerar(self): #defino método acelerar\n",
        "    print(\"el \",self.marca,\" modelo \",self.modelo,\" año \",self.año, \" y kilometraje \",self.kilometraje, \" esta acelerando\")\n",
        "  def frenar(self): #defino método frenar\n",
        "    print(\"el \",self.marca,\" modelo \",self.modelo,\" año \",self.año, \" y kilometraje \",self.kilometraje, \" esta frenando\")\n",
        "\n",
        "#Creación de objeto (coche)\n",
        "coche=Coche(\"Susuki\",\"vitara\",2021,50000)\n",
        "coche.arrancar() #llamo método arrancar para el coche\n",
        "coche.acelerar() #llamo método acelerar para el coche\n",
        "coche.frenar() #llamo método frenar para el coche\n"
      ],
      "metadata": {
        "colab": {
          "base_uri": "https://localhost:8080/"
        },
        "id": "lyU_m7KLvuDc",
        "outputId": "71544c51-4496-4a8d-e12c-9355bb76c78c"
      },
      "execution_count": null,
      "outputs": [
        {
          "output_type": "stream",
          "name": "stdout",
          "text": [
            "el  Susuki  modelo  vitara  año  2021  y kilometraje  50000  esta arrancando\n",
            "el  Susuki  modelo  vitara  año  2021  y kilometraje  50000  esta acelerando\n",
            "el  Susuki  modelo  vitara  año  2021  y kilometraje  50000  esta frenando\n"
          ]
        }
      ]
    },
    {
      "cell_type": "code",
      "source": [
        "class Rectangulo:\n",
        "  def __init__(self,longitud,ancho): #Defino método constructor, me da un estado inicial al objeto\n",
        "    self.longitud = longitud\n",
        "    self.ancho = ancho\n",
        "  def area(self): #defino método area\n",
        "    area=self.ancho*self.longitud #Calulo area\n",
        "    print(\"el area del rectangulo con longitud \",self.longitud, \" y ancho \",self.ancho,  \" es: \",area) #imprimo area\n",
        "  def perimetro(self): #defino método perimetro\n",
        "    perimetro=2*(self.ancho+self.longitud) #Calculo perimetro\n",
        "    print(\"el perimetro del rectangulo con longitud \",self.longitud, \" y ancho \",self.ancho, \" es \",perimetro) #imprimo perimetro\n",
        "\n",
        "#Creación de objeto (rectangulo)\n",
        "rectangulo1=Rectangulo(4,2) #creo objeto llamado rectangulo 1\n",
        "rectangulo2=Rectangulo(8,20) #creo objeto llamado rectangulo 2\n",
        "rectangulo1.area() #llamo metodo area para rectangulo 1\n",
        "rectangulo1.perimetro()#llamo metodo perimetro para rectangulo 1\n",
        "rectangulo2.area() #llamo metodo area para rectangulo 2\n",
        "rectangulo1.perimetro() #llamo metodo perimetro para rectangulo 2\n"
      ],
      "metadata": {
        "colab": {
          "base_uri": "https://localhost:8080/"
        },
        "id": "d3BkokCD574x",
        "outputId": "abad5cd0-d23c-4af9-b22d-7a2f4196e8ab"
      },
      "execution_count": null,
      "outputs": [
        {
          "output_type": "stream",
          "name": "stdout",
          "text": [
            "el area del rectangulo con longitud  4  y ancho  2  es:  8\n",
            "el perimetro del rectangulo con longitud  4  y ancho  2  es  12\n",
            "el area del rectangulo con longitud  8  y ancho  20  es:  160\n",
            "el perimetro del rectangulo con longitud  4  y ancho  2  es  12\n"
          ]
        }
      ]
    },
    {
      "cell_type": "code",
      "source": [
        "class Banco:\n",
        "  def __init__(self,nombre,direccion): #Defino método constructor, me da un estado inicial al objeto\n",
        "    self.nombre = nombre #atributo nombre\n",
        "    self.direccion = direccion #atributo dirección\n",
        "  def abrir_cuenta(self): #defino método abrir cuenta\n",
        "   print(\"Este método es para abrir una nueva cuenta en el banco\")\n",
        "  def depositar_dinero(self): #defino método depositar dinero\n",
        "   print(\"Este método es para depositar dinero en el banco\")\n",
        "  def retirar_dinero(self): #defino método retirar dinero\n",
        "   print(\"Este método es para retirar dinero en el banco\")\n",
        "  def revisar_saldo(self): #defino método revisar saldo\n",
        "   print(\"Este método es para revisar saldoen el banco\")\n",
        "\n",
        "#Creación de objeto (banco)\n",
        "banco=Banco(\"Bancolombia\",\"cll 93 #29-100\")\n",
        "banco.abrir_cuenta()\n",
        "banco.depositar_dinero()\n",
        "banco.retirar_dinero()\n",
        "banco.revisar_saldo()\n"
      ],
      "metadata": {
        "colab": {
          "base_uri": "https://localhost:8080/"
        },
        "id": "jjmR9OsO-GRp",
        "outputId": "6f741830-5b5b-4a53-88b1-051ba8e00ee8"
      },
      "execution_count": null,
      "outputs": [
        {
          "output_type": "stream",
          "name": "stdout",
          "text": [
            "Este método es para abrir una nueva cuenta en el banco\n",
            "Este método es para depositar dinero en el banco\n",
            "Este método es para retirar dinero en el banco\n",
            "Este método es para revisar saldoen el banco\n"
          ]
        }
      ]
    },
    {
      "cell_type": "code",
      "source": [
        "class Estudiante:\n",
        "  def __init__(self,nombre,edad,promedio): #Defino método constructor, me cda un estado inicial al objeto\n",
        "    self.nombre = nombre #Atributo nombre\n",
        "    self.edad = edad #Atributo edad\n",
        "    self.promedio = promedio #Atributo promedio\n",
        "  def estudiar(self): #defino método estudiar\n",
        "    print(\"Este método es para estudiar\")\n",
        "  def hacer_tareas(self): #defino método saludar\n",
        "    print(\"Este método es para hacer tareas\")\n",
        "  def presentar_examenes(self): #defino método saludar\n",
        "    print(\"Este método es para presentar examenes\")\n",
        "\n",
        "#Creación de objetos (estudiante)\n",
        "estudiante=Estudiante(\"felipe\",21,4.2)\n",
        "estudiante.estudiar()\n",
        "estudiante.hacer_tareas()\n",
        "estudiante.presentar_examenes()\n"
      ],
      "metadata": {
        "colab": {
          "base_uri": "https://localhost:8080/"
        },
        "id": "le8dOtV6AWuT",
        "outputId": "6cf9681a-007b-4618-ff7c-6dc70e306aa4"
      },
      "execution_count": null,
      "outputs": [
        {
          "output_type": "stream",
          "name": "stdout",
          "text": [
            "Este método es para estudiar\n",
            "Este método es para hacer tareas\n",
            "Este método es para presentar examenes\n"
          ]
        }
      ]
    }
  ]
}
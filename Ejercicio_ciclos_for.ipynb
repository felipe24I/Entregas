{
  "nbformat": 4,
  "nbformat_minor": 0,
  "metadata": {
    "colab": {
      "provenance": [],
      "authorship_tag": "ABX9TyOLMAeoN12pvSWYF2ZpW5kO",
      "include_colab_link": true
    },
    "kernelspec": {
      "name": "python3",
      "display_name": "Python 3"
    },
    "language_info": {
      "name": "python"
    }
  },
  "cells": [
    {
      "cell_type": "markdown",
      "metadata": {
        "id": "view-in-github",
        "colab_type": "text"
      },
      "source": [
        "<a href=\"https://colab.research.google.com/github/felipe24I/Entregas/blob/main/Ejercicio_ciclos_for.ipynb\" target=\"_parent\"><img src=\"https://colab.research.google.com/assets/colab-badge.svg\" alt=\"Open In Colab\"/></a>"
      ]
    },
    {
      "cell_type": "code",
      "execution_count": 3,
      "metadata": {
        "colab": {
          "base_uri": "https://localhost:8080/"
        },
        "id": "c8ACicYwpDQ_",
        "outputId": "041e9018-f493-4b88-992b-0ad7e0333cbf"
      },
      "outputs": [
        {
          "output_type": "stream",
          "name": "stdout",
          "text": [
            "Ingrese un numero entero: 2\n",
            "Los numeros pares ingresados son:  [2]\n",
            "Ingrese un numero entero: 50\n",
            "Los numeros pares ingresados son:  [2, 50]\n"
          ]
        }
      ],
      "source": [
        "lista=[]\n",
        "total=0\n",
        "for i in range(10):\n",
        "  num=int(input(\"Ingrese un numero entero: \"))\n",
        "  if (num%2==0):\n",
        "    total +=num\n",
        "    lista.append(num)\n",
        "    print(\"Los numeros pares ingresados son: \",lista)\n",
        "  if (total > 50) :\n",
        "    break\n",
        "  if(num%2==1):\n",
        "    print(\"numero impar, no se acumula\")\n",
        "\n",
        "\n"
      ]
    }
  ]
}
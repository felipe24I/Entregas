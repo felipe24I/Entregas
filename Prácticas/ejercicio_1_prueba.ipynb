{
  "nbformat": 4,
  "nbformat_minor": 0,
  "metadata": {
    "colab": {
      "provenance": [],
      "authorship_tag": "ABX9TyOxgzE4biW5fZmPLOvgEYbs",
      "include_colab_link": true
    },
    "kernelspec": {
      "name": "python3",
      "display_name": "Python 3"
    },
    "language_info": {
      "name": "python"
    }
  },
  "cells": [
    {
      "cell_type": "markdown",
      "metadata": {
        "id": "view-in-github",
        "colab_type": "text"
      },
      "source": [
        "<a href=\"https://colab.research.google.com/github/felipe24I/Entregas/blob/main/ejercicio_1_prueba.ipynb\" target=\"_parent\"><img src=\"https://colab.research.google.com/assets/colab-badge.svg\" alt=\"Open In Colab\"/></a>"
      ]
    },
    {
      "cell_type": "code",
      "execution_count": null,
      "metadata": {
        "id": "exkS32vLIajV"
      },
      "outputs": [],
      "source": [
        "#Cuantizar la señal de la red eléctrica\n",
        "\n",
        "#importamos librerias\n",
        "import numpy as np\n",
        "import matplotlib.pyplot as plt\n",
        "from scipy.spatial.distance import cdist\n",
        "#Primero escribimos los datos de la señal continua\n",
        "A=120 #amplitud\n",
        "f=60 #frecuencia\n",
        "T=1/f #periodo\n",
        "ti=0 #tiempo inicial\n",
        "tf= T #tiempo final\n",
        "Fs=100*f #frecuencia de muestreo\n",
        "Ts=1/Fs #tiempo de muestreo\n",
        "\n",
        "#Ahora discretizamos el tiempo\n",
        "tv= np.arange(ti,tf,Ts) #vector de tiempo discretizado\n",
        "print(tv)\n",
        "tv.shape\n",
        "\n",
        "#Ahora discretizamos el voltaje\n",
        "xv= A*np.sin(2*np.pi*f*tv)\n",
        "print(xv)\n",
        "xv.shape\n",
        "\n",
        "#Ahora vamos a imprimir la señal discretizada con la función stem\n",
        "plt.stem(tv,xv)\n",
        "plt.xlabel(\"Tiempo [seg]\")\n",
        "plt.ylabel(\"Voltaje [V]\")\n",
        "plt.show()\n",
        "\n",
        "#Ahora, como queremos pasar la señal por un conversor analogo/digital de 0 a 5 voltios, vamos modificar su amplitud de 0 a 5 voltios sin cambiar su forma,  (slope y offset)\n",
        "y_max=5 #voltaje máximo\n",
        "y_min=0 #voltaje mínimo\n",
        "\n",
        "def modificar_amplitud(x,ymin,ymax):\n",
        "  xmin=min(x) #función que encuentra el mínimo del vector de datos x\n",
        "  xmax=max(x) #función que encuentra el máximo del vector de datos x\n",
        "  m=(ymax-ymin)/(xmax-xmin) #cálculo de nueva pendiente\n",
        "  c=ymax-m*xmax #cálculo del nuevo cero\n",
        "  yv=m*x+c #cálculo de nuevos valores entre 0 y 5\n",
        "  return yv #retorna mis datos de 0 a 5\n",
        "\n",
        "yv= modificar_amplitud(xv,y_min,y_max) #le paso los datos a la función para que me modifique la amplitud\n",
        "print(yv)\n",
        "yv.shape\n",
        "\n",
        "#Ahora, vamos a imprimir la señal acondicionada\n",
        "plt.stem(tv,yv)\n",
        "plt.xlabel(\"Tiempo [seg]\")\n",
        "plt.ylabel(\"Voltaje [V]\")\n",
        "plt.show()\n",
        "\n",
        "#Ahora, recordemos que el conversos analogo/digital es de 3 bits, por tanto debemos cuantizar la señal para convertirla en una señal digital\n",
        "nbits=3 #número de bits\n",
        "rmin=0 #rango mínimo\n",
        "rmax=5 #rango máximo\n",
        "ve=np.linspace(rmin, rmax, 2**nbits) #cajones, representan los 8 valores de mi señal digital\n",
        "\n",
        "#Ahora, vamos a calcular la distancias entre mi vecotr de valores de 0 a 5 (yv) y mis valores (ve)\n",
        "d=cdist(yv.reshape(-1,1),ve.reshape(-1,1)) #cdist me calcula la distancia entre yv y ve, reshape me pone los vectores en matrices\n",
        "print(d)\n",
        "d.shape\n",
        "\n",
        "#Ahora, vamos a encontrar la distancia más cercana entre yv y ve\n",
        "ind=np.argmin(d, axis=1) #nos devuelve el indice de la menor distancia entre cada yv con respecto a todo ve\n",
        "valores_cuantizados= ve[ind] #va almacenando en un vector los valores cuantizados\n",
        "print(\"\\n valores cuantizados: \\n\",valores_cuantizados)\n",
        "\n",
        "#finalmente vamos a imprimir la señal cuantizada\n",
        "plt.figure(figsize=(10, 6))\n",
        "plt.plot(tv, yv, marker='o', label='Señal original')\n",
        "plt.plot(tv, valores_cuantizados, marker='x', label='Señal cuantizada')\n",
        "\n",
        "plt.xlabel('Tiempo [Seg]')\n",
        "plt.ylabel('Amplitud [V]')\n",
        "plt.title('Señal original y señal cuantizada')\n",
        "plt.legend()\n",
        "\n",
        "plt.grid()\n",
        "plt.show()\n"
      ]
    }
  ]
}
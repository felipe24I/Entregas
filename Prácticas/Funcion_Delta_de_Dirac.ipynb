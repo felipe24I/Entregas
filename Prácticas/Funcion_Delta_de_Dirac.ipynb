{
  "nbformat": 4,
  "nbformat_minor": 0,
  "metadata": {
    "colab": {
      "provenance": [],
      "authorship_tag": "ABX9TyOwp7QVRnR3qDhLMcCHvqzF",
      "include_colab_link": true
    },
    "kernelspec": {
      "name": "python3",
      "display_name": "Python 3"
    },
    "language_info": {
      "name": "python"
    }
  },
  "cells": [
    {
      "cell_type": "markdown",
      "metadata": {
        "id": "view-in-github",
        "colab_type": "text"
      },
      "source": [
        "<a href=\"https://colab.research.google.com/github/felipe24I/Entregas/blob/main/Funcion_Delta_de_Dirac.ipynb\" target=\"_parent\"><img src=\"https://colab.research.google.com/assets/colab-badge.svg\" alt=\"Open In Colab\"/></a>"
      ]
    },
    {
      "cell_type": "code",
      "execution_count": 15,
      "metadata": {
        "colab": {
          "base_uri": "https://localhost:8080/",
          "height": 38
        },
        "id": "sEQDYD8PP8PJ",
        "outputId": "03ef11d8-6ec8-4e3d-a4c9-ec632e39dfea"
      },
      "outputs": [
        {
          "output_type": "execute_result",
          "data": {
            "text/plain": [
              "g(τ)"
            ],
            "text/latex": "$\\displaystyle g{\\left(\\tau \\right)}$"
          },
          "metadata": {},
          "execution_count": 15
        }
      ],
      "source": [
        "import sympy as sym #importo libreria numpy\n",
        "t= sym.symbols(\"t\",real=True) #defino  variable simbólica\n",
        "delta=sym.DiracDelta(t) #defino función delta\n",
        "delta #muestro función delta\n",
        "\n",
        "#probamos propiedad de selectividad\n",
        "\n",
        "f=sym.Function(\"f\")(t) #defino función\n",
        "sym.integrate(delta*f,(t,-sym.oo,sym.oo)) #prueba propiedad de selectividad\n",
        "\n",
        "#Compruebe la propiedad de selectividad, para un impulso de Dirac desplazado y probar los resultados modificando el ejemplo anterior\n",
        "\n",
        "tau= sym.symbols(\"tau\",real=True) #defino variable simbólica\n",
        "delta_T=sym.DiracDelta(t-tau) #defino función delta desplazada\n",
        "delta_T #muestro función delta\n",
        "\n",
        "g= sym.Function(\"g\")(t) #defino función\n",
        "sym.integrate(delta_T*g,(t,-sym.oo,sym.oo)) #pruebo propiedad de selectividad\n",
        "\n",
        "\n"
      ]
    }
  ]
}